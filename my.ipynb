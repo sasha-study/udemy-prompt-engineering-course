{
 "cells": [
  {
   "cell_type": "code",
   "execution_count": 2,
   "id": "2421c9f8",
   "metadata": {},
   "outputs": [
    {
     "name": "stdout",
     "output_type": "stream",
     "text": [
      "Note: you may need to restart the kernel to use updated packages.\n"
     ]
    }
   ],
   "source": [
    "# Install all unique packages used in all notebooks (alphabetically sorted)\n",
    "%pip install --quiet --upgrade \\\n",
    "  anthropic \\\n",
    "  beautifulsoup4 \\\n",
    "  chromadb \\\n",
    "  comm \\\n",
    "  dspy-ai \\\n",
    "  faiss-cpu \\\n",
    "  h11 \\\n",
    "  httpcore \\\n",
    "  httpx \\\n",
    "  ipywidgets \\\n",
    "  jsonpatch \\\n",
    "  jsonpointer \\\n",
    "  langchain \\\n",
    "  langchain-anthropic \\\n",
    "  langchain-community \\\n",
    "  langchain-elasticsearch \\\n",
    "  langchain-experimental \\\n",
    "  langchain-mistralai \\\n",
    "  langchain-openai \\\n",
    "  langchain_openai \\\n",
    "  langchain_elasticsearch \\\n",
    "  langchainhub \\\n",
    "  langgraph \\\n",
    "  langsmith \\\n",
    "  lxml \\\n",
    "  marshmallow \\\n",
    "  matplotlib \\\n",
    "  nest_asyncio \\\n",
    "  numpy \\\n",
    "  openai \\\n",
    "  orjson \\\n",
    "  packaging \\\n",
    "  pandas \\\n",
    "  pydantic \\\n",
    "  pypdf \\\n",
    "  pyppeteer \\\n",
    "  pyppeteer_stealth \\\n",
    "  python-dotenv \\\n",
    "  requests \\\n",
    "  tavily-python \\\n",
    "  tiktoken \\\n",
    "  tqdm \\\n",
    "  typing-extensions \\\n",
    "  typing-inspect \\\n",
    "  urllib3 \\\n",
    "  wikipedia"
   ]
  },
  {
   "cell_type": "code",
   "execution_count": 5,
   "id": "6ab344c8",
   "metadata": {},
   "outputs": [
    {
     "name": "stdout",
     "output_type": "stream",
     "text": [
      "Note: you may need to restart the kernel to use updated packages.\n"
     ]
    }
   ],
   "source": [
    "%pip install --quiet --upgrade python-dotenv"
   ]
  },
  {
   "cell_type": "code",
   "execution_count": null,
   "id": "073b4553",
   "metadata": {},
   "outputs": [],
   "source": [
    "import os\n",
    "from dotenv import load_dotenv\n",
    "\n",
    "from openai import OpenAI"
   ]
  },
  {
   "cell_type": "code",
   "execution_count": null,
   "id": "6a027f49",
   "metadata": {},
   "outputs": [],
   "source": [
    "MODEL = \"gpt-4.1-nano\""
   ]
  },
  {
   "cell_type": "code",
   "execution_count": null,
   "id": "98122576",
   "metadata": {},
   "outputs": [],
   "source": [
    "# Load environment variables from .env file\n",
    "load_dotenv(override=True)  # Ensure .env values are loaded and override existing ones\n",
    "\n",
    "api_key = os.environ.get(\"OPENAI_API_KEY\")\n",
    "if not api_key:\n",
    "    raise ValueError(\"OPENAI_API_KEY not found in environment. Please check your .env file.\")\n",
    "\n",
    "# Create an OpenAI client instance\n",
    "client = OpenAI(\n",
    "    api_key=api_key\n",
    ")\n"
   ]
  },
  {
   "cell_type": "code",
   "execution_count": null,
   "id": "4ab9e318",
   "metadata": {},
   "outputs": [],
   "source": [
    "# Just works if OPENAI_API_KEY env is set\n",
    "client = OpenAI() "
   ]
  }
 ],
 "metadata": {
  "kernelspec": {
   "display_name": ".venv",
   "language": "python",
   "name": "python3"
  },
  "language_info": {
   "codemirror_mode": {
    "name": "ipython",
    "version": 3
   },
   "file_extension": ".py",
   "mimetype": "text/x-python",
   "name": "python",
   "nbconvert_exporter": "python",
   "pygments_lexer": "ipython3",
   "version": "3.10.12"
  }
 },
 "nbformat": 4,
 "nbformat_minor": 5
}
