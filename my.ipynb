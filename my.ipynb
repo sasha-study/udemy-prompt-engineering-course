{
 "cells": [
  {
   "cell_type": "code",
   "execution_count": null,
   "id": "2dfd1f5e",
   "metadata": {},
   "outputs": [],
   "source": [
    "%pip install --upgrade python-dotenv  openai  --quiet --upgrade"
   ]
  },
  {
   "cell_type": "code",
   "execution_count": null,
   "id": "073b4553",
   "metadata": {},
   "outputs": [],
   "source": [
    "from openai import OpenAI\n",
    "import os\n",
    "from dotenv import load_dotenv"
   ]
  },
  {
   "cell_type": "code",
   "execution_count": null,
   "id": "6a027f49",
   "metadata": {},
   "outputs": [],
   "source": [
    "MODEL = \"gpt-4.1-nano\""
   ]
  },
  {
   "cell_type": "code",
   "execution_count": null,
   "id": "98122576",
   "metadata": {},
   "outputs": [],
   "source": [
    "# Load environment variables from .env file\n",
    "load_dotenv(override=True)  # Ensure .env values are loaded and override existing ones\n",
    "\n",
    "api_key = os.environ.get(\"OPENAI_API_KEY\")\n",
    "if not api_key:\n",
    "    raise ValueError(\"OPENAI_API_KEY not found in environment. Please check your .env file.\")\n",
    "\n",
    "# Create an OpenAI client instance\n",
    "client = OpenAI(\n",
    "    api_key=api_key\n",
    ")"
   ]
  }
 ],
 "metadata": {
  "language_info": {
   "name": "python"
  }
 },
 "nbformat": 4,
 "nbformat_minor": 5
}
