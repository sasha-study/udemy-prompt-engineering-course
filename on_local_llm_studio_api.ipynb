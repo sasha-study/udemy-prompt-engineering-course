{
 "cells": [
  {
   "cell_type": "code",
   "execution_count": 1,
   "id": "bf31d299",
   "metadata": {},
   "outputs": [
    {
     "name": "stdout",
     "output_type": "stream",
     "text": [
      "Note: you may need to restart the kernel to use updated packages.\n"
     ]
    }
   ],
   "source": [
    "%pip install tiktoken openai python-dotenv --quiet --upgrade"
   ]
  },
  {
   "cell_type": "code",
   "execution_count": 2,
   "id": "5fb1d866",
   "metadata": {},
   "outputs": [],
   "source": [
    "from openai import OpenAI\n",
    "import os\n",
    "from dotenv import load_dotenv"
   ]
  },
  {
   "cell_type": "code",
   "execution_count": 3,
   "id": "a40c399a",
   "metadata": {},
   "outputs": [],
   "source": [
    "\n",
    "# Create an OpenAI client instance\n",
    "client = OpenAI(\n",
    "    api_key=\"lm-studio\",\n",
    "    base_url=\"http://localhost:1234/v1\"\n",
    ")"
   ]
  },
  {
   "cell_type": "code",
   "execution_count": 4,
   "id": "71234130",
   "metadata": {},
   "outputs": [],
   "source": [
    "MODEL = \"google/gemma-3-1b\""
   ]
  },
  {
   "cell_type": "code",
   "execution_count": 6,
   "id": "dfb82a3c-3f4d-4ea9-9ee1-df10e120eb79",
   "metadata": {},
   "outputs": [
    {
     "name": "stdout",
     "output_type": "stream",
     "text": [
      "Chat Completions response: Why did the water break up with the glass? \n",
      "\n",
      "Because it wanted some space! \n",
      "\n",
      "---\n",
      "\n",
      "Would you like to hear another one?\n",
      "Follow-up response: Why don't scientists trust atoms?\n",
      "\n",
      "Because they make up everything! 😄\n",
      "\n",
      "Let me know if you’d like another one! 😊\n"
     ]
    }
   ],
   "source": [
    "# A single-turn conversation using chat completions\n",
    "response = client.chat.completions.create(\n",
    "    model=MODEL,\n",
    "    messages=[\n",
    "        {\"role\": \"user\", \"content\": \"Tell me a joke about water.\"}\n",
    "    ]\n",
    ")\n",
    "\n",
    "print(\"Chat Completions response:\", response.choices[0].message.content)\n",
    "\n",
    "# For multiple turns, you would manually append previous messages:\n",
    "conversation = [\n",
    "    {\"role\": \"user\", \"content\": \"Tell me 2 jokes.\"},\n",
    "    {\"role\": \"assistant\", \"content\": response.choices[0].message.content}\n",
    "]\n",
    "\n",
    "# Follow-up request\n",
    "followup = client.chat.completions.create(\n",
    "    model=MODEL,\n",
    "    messages=conversation + [{\"role\": \"user\", \"content\": \"Tell me another joke.\"}],\n",
    "    temperature=1\n",
    ")\n",
    "\n",
    "print(\"Follow-up response:\", followup.choices[0].message.content)"
   ]
  }
 ],
 "metadata": {
  "kernelspec": {
   "display_name": ".venv",
   "language": "python",
   "name": "python3"
  },
  "language_info": {
   "codemirror_mode": {
    "name": "ipython",
    "version": 3
   },
   "file_extension": ".py",
   "mimetype": "text/x-python",
   "name": "python",
   "nbconvert_exporter": "python",
   "pygments_lexer": "ipython3",
   "version": "3.10.12"
  }
 },
 "nbformat": 4,
 "nbformat_minor": 5
}
